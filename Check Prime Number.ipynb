{
 "cells": [
  {
   "cell_type": "code",
   "execution_count": 1,
   "id": "326ea86f",
   "metadata": {},
   "outputs": [
    {
     "name": "stdout",
     "output_type": "stream",
     "text": [
      "Enter a number: 26\n",
      "26 is not a prime number.\n"
     ]
    }
   ],
   "source": [
    "num = int(input(\"Enter a number: \"))\n",
    "p = 0\n",
    "\n",
    "for i in range(2, num):\n",
    "    if num % i == 0:\n",
    "        p = 1\n",
    "\n",
    "if p == 1 and num != 2:\n",
    "    print(f\"{num} is not a prime number.\")\n",
    "else:\n",
    "    print(f\"{num} is a prime number.\")"
   ]
  },
  {
   "cell_type": "code",
   "execution_count": null,
   "id": "80608b18",
   "metadata": {},
   "outputs": [],
   "source": []
  }
 ],
 "metadata": {
  "kernelspec": {
   "display_name": "Python 3 (ipykernel)",
   "language": "python",
   "name": "python3"
  },
  "language_info": {
   "codemirror_mode": {
    "name": "ipython",
    "version": 3
   },
   "file_extension": ".py",
   "mimetype": "text/x-python",
   "name": "python",
   "nbconvert_exporter": "python",
   "pygments_lexer": "ipython3",
   "version": "3.11.5"
  }
 },
 "nbformat": 4,
 "nbformat_minor": 5
}
